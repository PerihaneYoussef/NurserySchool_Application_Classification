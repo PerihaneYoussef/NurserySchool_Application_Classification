{
 "cells": [
  {
   "cell_type": "markdown",
   "metadata": {},
   "source": [
    "   # APPLICATION FOR ADMISSION IN NURSERY SCHOOL SYSTEM"
   ]
  },
  {
   "cell_type": "markdown",
   "metadata": {},
   "source": [
    "## Problem Statement\n",
    "\n",
    "This is a classification problem. The dataset contains information about occupation of parents and child's nursery, family structure and financial standing, and social and health picture of the family. We need to train the model and given a new dataset we need to classify whether the child is \"not_recommended, recommended, very_recommended, priority and spec_priority\". It solves the problem of figuring out what prerequisites are needed for a child's application to be accepted by the nursery school. The advantage of using my trained model will help parents realize what are the problems that must be avoided when applying for a nursery school.\n",
    "\n",
    "Here's the reference for the dataset [UCI Machine Learning Repository \"Nursery Dataset\"](https://archive.ics.uci.edu/ml/machine-learning-databases/nursery/) "
   ]
  },
  {
   "cell_type": "markdown",
   "metadata": {},
   "source": [
    "## Project Design\n",
    "\n",
    "I will follow some steps to find the best model and accurately predict each data point class\n",
    "\n",
    "1.\t[Exploratory data analysis](#1)\n",
    "2.\t[Data preprocessing](#2)\n",
    "3.\t[Split the dataset](#3)\n",
    "4.\t[Build the benchmark model](#4)\n",
    "5.\t[Build Models](#5)\n",
    "6.\t[Evaluation and Benchmarking](#6) \n",
    "7.\t[Validation](#6)\n",
    "\n"
   ]
  },
  {
   "cell_type": "markdown",
   "metadata": {},
   "source": [
    "## 1- Exploratory Data Analysis <a name=\"1\"></a>"
   ]
  },
  {
   "cell_type": "markdown",
   "metadata": {},
   "source": [
    "### Importing the Necessary Libraries"
   ]
  },
  {
   "cell_type": "code",
   "execution_count": 1,
   "metadata": {
    "collapsed": true
   },
   "outputs": [],
   "source": [
    "import pandas as pd\n",
    "import seaborn as sns\n",
    "from matplotlib import pyplot as plt\n",
    "%matplotlib inline\n",
    "from time import time\n",
    "from IPython.display import display"
   ]
  },
  {
   "cell_type": "markdown",
   "metadata": {},
   "source": [
    "### Importing Dataset"
   ]
  },
  {
   "cell_type": "markdown",
   "metadata": {},
   "source": [
    "We will first set some useful variables we'll use for preprocessing, such as column names and target labels.\n",
    "\n",
    "After that, we'll peek at the data and see what it's made of."
   ]
  },
  {
   "cell_type": "code",
   "execution_count": 2,
   "metadata": {},
   "outputs": [
    {
     "data": {
      "text/html": [
       "<div>\n",
       "<style>\n",
       "    .dataframe thead tr:only-child th {\n",
       "        text-align: right;\n",
       "    }\n",
       "\n",
       "    .dataframe thead th {\n",
       "        text-align: left;\n",
       "    }\n",
       "\n",
       "    .dataframe tbody tr th {\n",
       "        vertical-align: top;\n",
       "    }\n",
       "</style>\n",
       "<table border=\"1\" class=\"dataframe\">\n",
       "  <thead>\n",
       "    <tr style=\"text-align: right;\">\n",
       "      <th></th>\n",
       "      <th>parents</th>\n",
       "      <th>has_nurs</th>\n",
       "      <th>form</th>\n",
       "      <th>children</th>\n",
       "      <th>housing</th>\n",
       "      <th>finance</th>\n",
       "      <th>social</th>\n",
       "      <th>health</th>\n",
       "      <th>target</th>\n",
       "    </tr>\n",
       "  </thead>\n",
       "  <tbody>\n",
       "    <tr>\n",
       "      <th>0</th>\n",
       "      <td>usual</td>\n",
       "      <td>proper</td>\n",
       "      <td>complete</td>\n",
       "      <td>1</td>\n",
       "      <td>convenient</td>\n",
       "      <td>convenient</td>\n",
       "      <td>nonprob</td>\n",
       "      <td>recommended</td>\n",
       "      <td>recommend</td>\n",
       "    </tr>\n",
       "    <tr>\n",
       "      <th>1</th>\n",
       "      <td>usual</td>\n",
       "      <td>proper</td>\n",
       "      <td>complete</td>\n",
       "      <td>1</td>\n",
       "      <td>convenient</td>\n",
       "      <td>convenient</td>\n",
       "      <td>nonprob</td>\n",
       "      <td>priority</td>\n",
       "      <td>priority</td>\n",
       "    </tr>\n",
       "    <tr>\n",
       "      <th>2</th>\n",
       "      <td>usual</td>\n",
       "      <td>proper</td>\n",
       "      <td>complete</td>\n",
       "      <td>1</td>\n",
       "      <td>convenient</td>\n",
       "      <td>convenient</td>\n",
       "      <td>nonprob</td>\n",
       "      <td>not_recom</td>\n",
       "      <td>not_recom</td>\n",
       "    </tr>\n",
       "    <tr>\n",
       "      <th>3</th>\n",
       "      <td>usual</td>\n",
       "      <td>proper</td>\n",
       "      <td>complete</td>\n",
       "      <td>1</td>\n",
       "      <td>convenient</td>\n",
       "      <td>convenient</td>\n",
       "      <td>slightly_prob</td>\n",
       "      <td>recommended</td>\n",
       "      <td>recommend</td>\n",
       "    </tr>\n",
       "    <tr>\n",
       "      <th>4</th>\n",
       "      <td>usual</td>\n",
       "      <td>proper</td>\n",
       "      <td>complete</td>\n",
       "      <td>1</td>\n",
       "      <td>convenient</td>\n",
       "      <td>convenient</td>\n",
       "      <td>slightly_prob</td>\n",
       "      <td>priority</td>\n",
       "      <td>priority</td>\n",
       "    </tr>\n",
       "  </tbody>\n",
       "</table>\n",
       "</div>"
      ],
      "text/plain": [
       "  parents has_nurs      form children     housing     finance         social  \\\n",
       "0   usual   proper  complete        1  convenient  convenient        nonprob   \n",
       "1   usual   proper  complete        1  convenient  convenient        nonprob   \n",
       "2   usual   proper  complete        1  convenient  convenient        nonprob   \n",
       "3   usual   proper  complete        1  convenient  convenient  slightly_prob   \n",
       "4   usual   proper  complete        1  convenient  convenient  slightly_prob   \n",
       "\n",
       "        health     target  \n",
       "0  recommended  recommend  \n",
       "1     priority   priority  \n",
       "2    not_recom  not_recom  \n",
       "3  recommended  recommend  \n",
       "4     priority   priority  "
      ]
     },
     "execution_count": 2,
     "metadata": {},
     "output_type": "execute_result"
    }
   ],
   "source": [
    "headers = [\"parents\", \"has_nurs\", \"form\", \"children\", \"housing\", \"finance\", \"social\", \"health\", \"target\"]\n",
    "target_names = [\"not_recom\", \"recommend\", \"very_recom\", \"priority\", \"spec_prior\"]\n",
    "features = headers[:-1]\n",
    "label = headers[-1]\n",
    "df = pd.read_csv(\"nursery_data.csv\", names=headers)\n",
    "df.head()"
   ]
  },
  {
   "cell_type": "code",
   "execution_count": 3,
   "metadata": {},
   "outputs": [
    {
     "name": "stdout",
     "output_type": "stream",
     "text": [
      "The 'Nursery Dataset' has 12960 rows and 9 columns.\n",
      "\n",
      "<class 'pandas.core.frame.DataFrame'>\n",
      "RangeIndex: 12960 entries, 0 to 12959\n",
      "Data columns (total 9 columns):\n",
      "parents     12960 non-null object\n",
      "has_nurs    12960 non-null object\n",
      "form        12960 non-null object\n",
      "children    12960 non-null object\n",
      "housing     12960 non-null object\n",
      "finance     12960 non-null object\n",
      "social      12960 non-null object\n",
      "health      12960 non-null object\n",
      "target      12960 non-null object\n",
      "dtypes: object(9)\n",
      "memory usage: 911.3+ KB\n"
     ]
    }
   ],
   "source": [
    "print(\"The 'Nursery Dataset' has {} rows and {} columns.\\n\".format(df.shape[0], df.shape[1]))\n",
    "df.info()"
   ]
  },
  {
   "cell_type": "markdown",
   "metadata": {},
   "source": [
    "All features are categorical, except the children feature. To inspect this further, we'll check the dtypes attribute of the data frame."
   ]
  },
  {
   "cell_type": "code",
   "execution_count": 4,
   "metadata": {},
   "outputs": [
    {
     "data": {
      "text/plain": [
       "parents     object\n",
       "has_nurs    object\n",
       "form        object\n",
       "children    object\n",
       "housing     object\n",
       "finance     object\n",
       "social      object\n",
       "health      object\n",
       "target      object\n",
       "dtype: object"
      ]
     },
     "execution_count": 4,
     "metadata": {},
     "output_type": "execute_result"
    }
   ],
   "source": [
    "df.dtypes"
   ]
  },
  {
   "cell_type": "code",
   "execution_count": 5,
   "metadata": {},
   "outputs": [
    {
     "data": {
      "text/html": [
       "<div>\n",
       "<style>\n",
       "    .dataframe thead tr:only-child th {\n",
       "        text-align: right;\n",
       "    }\n",
       "\n",
       "    .dataframe thead th {\n",
       "        text-align: left;\n",
       "    }\n",
       "\n",
       "    .dataframe tbody tr th {\n",
       "        vertical-align: top;\n",
       "    }\n",
       "</style>\n",
       "<table border=\"1\" class=\"dataframe\">\n",
       "  <thead>\n",
       "    <tr style=\"text-align: right;\">\n",
       "      <th></th>\n",
       "      <th>parents</th>\n",
       "      <th>has_nurs</th>\n",
       "      <th>form</th>\n",
       "      <th>children</th>\n",
       "      <th>housing</th>\n",
       "      <th>finance</th>\n",
       "      <th>social</th>\n",
       "      <th>health</th>\n",
       "      <th>target</th>\n",
       "    </tr>\n",
       "  </thead>\n",
       "  <tbody>\n",
       "    <tr>\n",
       "      <th>count</th>\n",
       "      <td>12960</td>\n",
       "      <td>12960</td>\n",
       "      <td>12960</td>\n",
       "      <td>12960</td>\n",
       "      <td>12960</td>\n",
       "      <td>12960</td>\n",
       "      <td>12960</td>\n",
       "      <td>12960</td>\n",
       "      <td>12960</td>\n",
       "    </tr>\n",
       "    <tr>\n",
       "      <th>unique</th>\n",
       "      <td>3</td>\n",
       "      <td>5</td>\n",
       "      <td>4</td>\n",
       "      <td>4</td>\n",
       "      <td>3</td>\n",
       "      <td>2</td>\n",
       "      <td>3</td>\n",
       "      <td>3</td>\n",
       "      <td>5</td>\n",
       "    </tr>\n",
       "    <tr>\n",
       "      <th>top</th>\n",
       "      <td>usual</td>\n",
       "      <td>critical</td>\n",
       "      <td>completed</td>\n",
       "      <td>more</td>\n",
       "      <td>critical</td>\n",
       "      <td>inconv</td>\n",
       "      <td>nonprob</td>\n",
       "      <td>recommended</td>\n",
       "      <td>not_recom</td>\n",
       "    </tr>\n",
       "    <tr>\n",
       "      <th>freq</th>\n",
       "      <td>4320</td>\n",
       "      <td>2592</td>\n",
       "      <td>3240</td>\n",
       "      <td>3240</td>\n",
       "      <td>4320</td>\n",
       "      <td>6480</td>\n",
       "      <td>4320</td>\n",
       "      <td>4320</td>\n",
       "      <td>4320</td>\n",
       "    </tr>\n",
       "  </tbody>\n",
       "</table>\n",
       "</div>"
      ],
      "text/plain": [
       "       parents  has_nurs       form children   housing finance   social  \\\n",
       "count    12960     12960      12960    12960     12960   12960    12960   \n",
       "unique       3         5          4        4         3       2        3   \n",
       "top      usual  critical  completed     more  critical  inconv  nonprob   \n",
       "freq      4320      2592       3240     3240      4320    6480     4320   \n",
       "\n",
       "             health     target  \n",
       "count         12960      12960  \n",
       "unique            3          5  \n",
       "top     recommended  not_recom  \n",
       "freq           4320       4320  "
      ]
     },
     "execution_count": 5,
     "metadata": {},
     "output_type": "execute_result"
    }
   ],
   "source": [
    "df.describe()"
   ]
  },
  {
   "cell_type": "markdown",
   "metadata": {},
   "source": [
    "### Unique Values of Each Column"
   ]
  },
  {
   "cell_type": "markdown",
   "metadata": {},
   "source": [
    " Pandas has inferred the object type for each one of our attributes. Let's dig in and see which kind of values our features can take on. To do this, we'll make use of the unique method of the data frame."
   ]
  },
  {
   "cell_type": "code",
   "execution_count": 6,
   "metadata": {},
   "outputs": [
    {
     "data": {
      "text/plain": [
       "[('parents', array(['usual', 'pretentious', 'great_pret'], dtype=object)),\n",
       " ('has_nurs',\n",
       "  array(['proper', 'less_proper', 'improper', 'critical', 'very_crit'], dtype=object)),\n",
       " ('form',\n",
       "  array(['complete', 'completed', 'incomplete', 'foster'], dtype=object)),\n",
       " ('children', array(['1', '2', '3', 'more'], dtype=object)),\n",
       " ('housing', array(['convenient', 'less_conv', 'critical'], dtype=object)),\n",
       " ('finance', array(['convenient', 'inconv'], dtype=object)),\n",
       " ('social', array(['nonprob', 'slightly_prob', 'problematic'], dtype=object)),\n",
       " ('health', array(['recommended', 'priority', 'not_recom'], dtype=object)),\n",
       " ('target',\n",
       "  array(['recommend', 'priority', 'not_recom', 'very_recom', 'spec_prior'], dtype=object))]"
      ]
     },
     "execution_count": 6,
     "metadata": {},
     "output_type": "execute_result"
    }
   ],
   "source": [
    "[(h, df[h].unique()) for h in headers]"
   ]
  },
  {
   "cell_type": "markdown",
   "metadata": {},
   "source": [
    "#### Some observations\n",
    "I observed that even children is a categorical feature. Let's move on and convert each feature into a categorical one, so that pandas can treat them properly. \n",
    "\n",
    "Each category is ordered (as an example, take a look at the values of the housing feature. You can clearly see that convenient is better than less_conv, which in turn is better than critical). However, we do understand how values are ordered because we know the meaning of each word, but the computer does not. Hence, we'll need to manually specify the order of each category."
   ]
  },
  {
   "cell_type": "code",
   "execution_count": 7,
   "metadata": {},
   "outputs": [
    {
     "name": "stdout",
     "output_type": "stream",
     "text": [
      "<class 'pandas.core.frame.DataFrame'>\n",
      "RangeIndex: 12960 entries, 0 to 12959\n",
      "Data columns (total 9 columns):\n",
      "parents     12960 non-null category\n",
      "has_nurs    12960 non-null category\n",
      "form        12960 non-null category\n",
      "children    12960 non-null category\n",
      "housing     12960 non-null category\n",
      "finance     12960 non-null category\n",
      "social      12960 non-null category\n",
      "health      12960 non-null category\n",
      "target      12960 non-null category\n",
      "dtypes: category(9)\n",
      "memory usage: 115.2 KB\n"
     ]
    }
   ],
   "source": [
    "df.parents = df.parents.astype(\"category\", categories=[\"usual\", \"pretentious\", \"great_pret\"], ordered=True)\n",
    "df.has_nurs = df.has_nurs.astype(\"category\", categories=[\"proper\", \"less_proper\", \"improper\", \"critical\", \"very_crit\"], ordered=True)\n",
    "df.form = df.form.astype(\"category\", categories=[\"complete\", \"completed\", \"incomplete\", \"foster\"], ordered=True)\n",
    "df.children = df.children.astype(\"category\", categories=[\"1\", \"2\", \"3\", \"more\"], ordered=True)\n",
    "df.housing = df.housing.astype(\"category\", categories=[\"convenient\", \"less_conv\", \"critical\"], ordered=True)\n",
    "df.finance = df.finance.astype(\"category\", categories=[\"convenient\", \"inconv\"], ordered=True)\n",
    "df.social = df.social.astype(\"category\", categories=[\"nonprob\", \"slightly_prob\", \"problematic\"], ordered=True)\n",
    "df.health = df.health.astype(\"category\", categories=[\"recommended\", \"priority\", \"not_recom\"], ordered=True)\n",
    "df.target = df.target.astype(\"category\", categories=target_names, ordered=True)\n",
    "\n",
    "df.info()"
   ]
  },
  {
   "cell_type": "markdown",
   "metadata": {},
   "source": [
    "### Bar plot of the Data Distribution"
   ]
  },
  {
   "cell_type": "code",
   "execution_count": 8,
   "metadata": {},
   "outputs": [
    {
     "data": {
      "image/png": "[encoded data removed]",
      "text/plain": [
       "<matplotlib.figure.Figure at 0x218e769b2b0>"
      ]
     },
     "metadata": {},
     "output_type": "display_data"
    }
   ],
   "source": [
    "fig, axs = plt.subplots(nrows=3, ncols=3)\n",
    "fig.set_size_inches(18, 10)\n",
    "axs = axs.flatten()\n",
    "colnames = df.columns.tolist()\n",
    "\n",
    "for ax, col in zip(axs, colnames):\n",
    "    sns.countplot(x=col, data=df, ax=ax)\n",
    "plt.tight_layout()"
   ]
  },
  {
   "cell_type": "markdown",
   "metadata": {},
   "source": [
    "#### Some observations \n",
    "\n",
    "The target class observation is interesting, almost no observations are labelled as recommended, very few are very recommended; most of them are not recommended, recommended with priority or recommended with special priority. "
   ]
  },
  {
   "cell_type": "markdown",
   "metadata": {},
   "source": [
    "### Bar plot of the target labels distributed within the various features"
   ]
  },
  {
   "cell_type": "code",
   "execution_count": 9,
   "metadata": {},
   "outputs": [
    {
     "data": {
      "image/png": "[encoded data removed]",
      "text/plain": [
       "<matplotlib.figure.Figure at 0x218e92f47f0>"
      ]
     },
     "metadata": {},
     "output_type": "display_data"
    }
   ],
   "source": [
    "fig, axs = plt.subplots(nrows=4, ncols=2)\n",
    "fig.set_size_inches(18, 20)\n",
    "\n",
    "axs = axs.flatten()\n",
    "\n",
    "for col, ax in zip(features, axs):\n",
    "    sns.countplot(x=col, hue=\"target\", data=df, ax=ax)\n",
    "    \n",
    "plt.tight_layout()"
   ]
  },
  {
   "cell_type": "markdown",
   "metadata": {},
   "source": [
    "#### Some observations\n",
    "\n",
    "There seems to be some correlation between the family's health status and the acceptance outcome.\n",
    "\n",
    "In particular, in the last plot, we clearly see that if the health status of the family does not recommend final acceptance, the final decision will be to not recommend the child."
   ]
  },
  {
   "cell_type": "markdown",
   "metadata": {},
   "source": [
    "### The correlation matrix between the features and the target "
   ]
  },
  {
   "cell_type": "code",
   "execution_count": 10,
   "metadata": {},
   "outputs": [
    {
     "data": {
      "text/plain": [
       "<matplotlib.axes._subplots.AxesSubplot at 0x218e91c2400>"
      ]
     },
     "execution_count": 10,
     "metadata": {},
     "output_type": "execute_result"
    },
    {
     "data": {
      "image/png": "[encoded data removed]",
      "text/plain": [
       "<matplotlib.figure.Figure at 0x218e914e940>"
      ]
     },
     "metadata": {},
     "output_type": "display_data"
    }
   ],
   "source": [
    "#using a heatmap to see what's going on\n",
    "\n",
    "fig, ax = plt.subplots(figsize=(11, 9))\n",
    "\n",
    "# the computer does not know how to calculate correlation on categories; \n",
    "# we need toone-hot encode each feature in order to get binary variables, \n",
    "# for which correlation is easy to compute\n",
    "df1 = pd.get_dummies(df)\n",
    "\n",
    "# some color palette to make the plot visually appealing...\n",
    "cmap = sns.diverging_palette(220, 10, as_cmap=True)\n",
    "\n",
    "sns.heatmap(df1.corr(), ax=ax, cmap=cmap)"
   ]
  },
  {
   "cell_type": "markdown",
   "metadata": {},
   "source": [
    "#### Some Observations\n",
    "\n",
    "The correlation between target_not_recom and health_not_recom is 1.0. At the same time, finance_convenient is perfectly negatively correlated with finance_inconv which means the two columns are complements."
   ]
  },
  {
   "cell_type": "markdown",
   "metadata": {},
   "source": [
    "## 2- Data Preprocessing <a name=\"2\"></a>"
   ]
  },
  {
   "cell_type": "markdown",
   "metadata": {},
   "source": [
    "In order to do any training with the dataset, we need to first preprocess the data. Data preprocessing plays a major role before applying any algorithm."
   ]
  },
  {
   "cell_type": "markdown",
   "metadata": {},
   "source": [
    "### Separate the target in another variable"
   ]
  },
  {
   "cell_type": "code",
   "execution_count": 11,
   "metadata": {},
   "outputs": [
    {
     "name": "stdout",
     "output_type": "stream",
     "text": [
      "Dataframe columns after removing 'target':\n",
      " ['parents', 'has_nurs', 'form', 'children', 'housing', 'finance', 'social', 'health']\n"
     ]
    },
    {
     "data": {
      "text/html": [
       "<div>\n",
       "<style>\n",
       "    .dataframe thead tr:only-child th {\n",
       "        text-align: right;\n",
       "    }\n",
       "\n",
       "    .dataframe thead th {\n",
       "        text-align: left;\n",
       "    }\n",
       "\n",
       "    .dataframe tbody tr th {\n",
       "        vertical-align: top;\n",
       "    }\n",
       "</style>\n",
       "<table border=\"1\" class=\"dataframe\">\n",
       "  <thead>\n",
       "    <tr style=\"text-align: right;\">\n",
       "      <th></th>\n",
       "      <th>parents</th>\n",
       "      <th>has_nurs</th>\n",
       "      <th>form</th>\n",
       "      <th>children</th>\n",
       "      <th>housing</th>\n",
       "      <th>finance</th>\n",
       "      <th>social</th>\n",
       "      <th>health</th>\n",
       "    </tr>\n",
       "  </thead>\n",
       "  <tbody>\n",
       "    <tr>\n",
       "      <th>count</th>\n",
       "      <td>12960</td>\n",
       "      <td>12960</td>\n",
       "      <td>12960</td>\n",
       "      <td>12960</td>\n",
       "      <td>12960</td>\n",
       "      <td>12960</td>\n",
       "      <td>12960</td>\n",
       "      <td>12960</td>\n",
       "    </tr>\n",
       "    <tr>\n",
       "      <th>unique</th>\n",
       "      <td>3</td>\n",
       "      <td>5</td>\n",
       "      <td>4</td>\n",
       "      <td>4</td>\n",
       "      <td>3</td>\n",
       "      <td>2</td>\n",
       "      <td>3</td>\n",
       "      <td>3</td>\n",
       "    </tr>\n",
       "    <tr>\n",
       "      <th>top</th>\n",
       "      <td>great_pret</td>\n",
       "      <td>very_crit</td>\n",
       "      <td>foster</td>\n",
       "      <td>more</td>\n",
       "      <td>critical</td>\n",
       "      <td>inconv</td>\n",
       "      <td>problematic</td>\n",
       "      <td>not_recom</td>\n",
       "    </tr>\n",
       "    <tr>\n",
       "      <th>freq</th>\n",
       "      <td>4320</td>\n",
       "      <td>2592</td>\n",
       "      <td>3240</td>\n",
       "      <td>3240</td>\n",
       "      <td>4320</td>\n",
       "      <td>6480</td>\n",
       "      <td>4320</td>\n",
       "      <td>4320</td>\n",
       "    </tr>\n",
       "  </tbody>\n",
       "</table>\n",
       "</div>"
      ],
      "text/plain": [
       "           parents   has_nurs    form children   housing finance       social  \\\n",
       "count        12960      12960   12960    12960     12960   12960        12960   \n",
       "unique           3          5       4        4         3       2            3   \n",
       "top     great_pret  very_crit  foster     more  critical  inconv  problematic   \n",
       "freq          4320       2592    3240     3240      4320    6480         4320   \n",
       "\n",
       "           health  \n",
       "count       12960  \n",
       "unique          3  \n",
       "top     not_recom  \n",
       "freq         4320  "
      ]
     },
     "execution_count": 11,
     "metadata": {},
     "output_type": "execute_result"
    }
   ],
   "source": [
    "target = df['target']\n",
    "dataset = df.drop(['target'], axis=1)\n",
    "# some statistics\n",
    "print(\"Dataframe columns after removing 'target':\\n\", dataset.columns.tolist())\n",
    "# Since all the dataframe columns are categorical, \n",
    "# dataset.describe() will find unique values and the frequency of top repeated value in each columns\n",
    "dataset.describe()"
   ]
  },
  {
   "cell_type": "markdown",
   "metadata": {},
   "source": [
    "### Checking for any missing data in the dataset"
   ]
  },
  {
   "cell_type": "code",
   "execution_count": 12,
   "metadata": {},
   "outputs": [
    {
     "name": "stdout",
     "output_type": "stream",
     "text": [
      "parents     False\n",
      "has_nurs    False\n",
      "form        False\n",
      "children    False\n",
      "housing     False\n",
      "finance     False\n",
      "social      False\n",
      "health      False\n",
      "target      False\n",
      "dtype: bool\n"
     ]
    }
   ],
   "source": [
    "print(df.isnull().any())"
   ]
  },
  {
   "cell_type": "markdown",
   "metadata": {},
   "source": [
    "From above, we get to know that there are no missing values in the dataset. So we can now proceed with preparing the dataset."
   ]
  },
  {
   "cell_type": "markdown",
   "metadata": {},
   "source": [
    "### Converting the target variables values into binary values"
   ]
  },
  {
   "cell_type": "markdown",
   "metadata": {},
   "source": [
    "We need to convert the dataset which is in the form of strings to numbers."
   ]
  },
  {
   "cell_type": "code",
   "execution_count": 13,
   "metadata": {},
   "outputs": [
    {
     "name": "stdout",
     "output_type": "stream",
     "text": [
      "[recommend, priority, not_recom, recommend, priority]\n",
      "Categories (5, object): [not_recom < recommend < very_recom < priority < spec_prior]\n",
      "[2 1 0 2 1]\n"
     ]
    }
   ],
   "source": [
    "from sklearn.preprocessing import LabelEncoder\n",
    "label_encoder_class = LabelEncoder()\n",
    "bin_target = label_encoder_class.fit_transform(target)\n",
    "print(target[:5].values)\n",
    "print(bin_target[:5])"
   ]
  },
  {
   "cell_type": "markdown",
   "metadata": {},
   "source": [
    "### Using One-Hot-Encoding for the features"
   ]
  },
  {
   "cell_type": "code",
   "execution_count": 14,
   "metadata": {},
   "outputs": [
    {
     "name": "stdout",
     "output_type": "stream",
     "text": [
      "No. of encoded columns:  19\n"
     ]
    },
    {
     "data": {
      "text/html": [
       "<div>\n",
       "<style>\n",
       "    .dataframe thead tr:only-child th {\n",
       "        text-align: right;\n",
       "    }\n",
       "\n",
       "    .dataframe thead th {\n",
       "        text-align: left;\n",
       "    }\n",
       "\n",
       "    .dataframe tbody tr th {\n",
       "        vertical-align: top;\n",
       "    }\n",
       "</style>\n",
       "<table border=\"1\" class=\"dataframe\">\n",
       "  <thead>\n",
       "    <tr style=\"text-align: right;\">\n",
       "      <th></th>\n",
       "      <th>parents_pretentious</th>\n",
       "      <th>parents_great_pret</th>\n",
       "      <th>has_nurs_less_proper</th>\n",
       "      <th>has_nurs_improper</th>\n",
       "      <th>has_nurs_critical</th>\n",
       "      <th>has_nurs_very_crit</th>\n",
       "      <th>form_completed</th>\n",
       "      <th>form_incomplete</th>\n",
       "      <th>form_foster</th>\n",
       "      <th>children_2</th>\n",
       "      <th>children_3</th>\n",
       "      <th>children_more</th>\n",
       "      <th>housing_less_conv</th>\n",
       "      <th>housing_critical</th>\n",
       "      <th>finance_inconv</th>\n",
       "      <th>social_slightly_prob</th>\n",
       "      <th>social_problematic</th>\n",
       "      <th>health_priority</th>\n",
       "      <th>health_not_recom</th>\n",
       "    </tr>\n",
       "  </thead>\n",
       "  <tbody>\n",
       "    <tr>\n",
       "      <th>0</th>\n",
       "      <td>0</td>\n",
       "      <td>0</td>\n",
       "      <td>0</td>\n",
       "      <td>0</td>\n",
       "      <td>0</td>\n",
       "      <td>0</td>\n",
       "      <td>0</td>\n",
       "      <td>0</td>\n",
       "      <td>0</td>\n",
       "      <td>0</td>\n",
       "      <td>0</td>\n",
       "      <td>0</td>\n",
       "      <td>0</td>\n",
       "      <td>0</td>\n",
       "      <td>0</td>\n",
       "      <td>0</td>\n",
       "      <td>0</td>\n",
       "      <td>0</td>\n",
       "      <td>0</td>\n",
       "    </tr>\n",
       "    <tr>\n",
       "      <th>1</th>\n",
       "      <td>0</td>\n",
       "      <td>0</td>\n",
       "      <td>0</td>\n",
       "      <td>0</td>\n",
       "      <td>0</td>\n",
       "      <td>0</td>\n",
       "      <td>0</td>\n",
       "      <td>0</td>\n",
       "      <td>0</td>\n",
       "      <td>0</td>\n",
       "      <td>0</td>\n",
       "      <td>0</td>\n",
       "      <td>0</td>\n",
       "      <td>0</td>\n",
       "      <td>0</td>\n",
       "      <td>0</td>\n",
       "      <td>0</td>\n",
       "      <td>1</td>\n",
       "      <td>0</td>\n",
       "    </tr>\n",
       "    <tr>\n",
       "      <th>2</th>\n",
       "      <td>0</td>\n",
       "      <td>0</td>\n",
       "      <td>0</td>\n",
       "      <td>0</td>\n",
       "      <td>0</td>\n",
       "      <td>0</td>\n",
       "      <td>0</td>\n",
       "      <td>0</td>\n",
       "      <td>0</td>\n",
       "      <td>0</td>\n",
       "      <td>0</td>\n",
       "      <td>0</td>\n",
       "      <td>0</td>\n",
       "      <td>0</td>\n",
       "      <td>0</td>\n",
       "      <td>0</td>\n",
       "      <td>0</td>\n",
       "      <td>0</td>\n",
       "      <td>1</td>\n",
       "    </tr>\n",
       "    <tr>\n",
       "      <th>3</th>\n",
       "      <td>0</td>\n",
       "      <td>0</td>\n",
       "      <td>0</td>\n",
       "      <td>0</td>\n",
       "      <td>0</td>\n",
       "      <td>0</td>\n",
       "      <td>0</td>\n",
       "      <td>0</td>\n",
       "      <td>0</td>\n",
       "      <td>0</td>\n",
       "      <td>0</td>\n",
       "      <td>0</td>\n",
       "      <td>0</td>\n",
       "      <td>0</td>\n",
       "      <td>0</td>\n",
       "      <td>1</td>\n",
       "      <td>0</td>\n",
       "      <td>0</td>\n",
       "      <td>0</td>\n",
       "    </tr>\n",
       "    <tr>\n",
       "      <th>4</th>\n",
       "      <td>0</td>\n",
       "      <td>0</td>\n",
       "      <td>0</td>\n",
       "      <td>0</td>\n",
       "      <td>0</td>\n",
       "      <td>0</td>\n",
       "      <td>0</td>\n",
       "      <td>0</td>\n",
       "      <td>0</td>\n",
       "      <td>0</td>\n",
       "      <td>0</td>\n",
       "      <td>0</td>\n",
       "      <td>0</td>\n",
       "      <td>0</td>\n",
       "      <td>0</td>\n",
       "      <td>1</td>\n",
       "      <td>0</td>\n",
       "      <td>1</td>\n",
       "      <td>0</td>\n",
       "    </tr>\n",
       "  </tbody>\n",
       "</table>\n",
       "</div>"
      ],
      "text/plain": [
       "   parents_pretentious  parents_great_pret  has_nurs_less_proper  \\\n",
       "0                    0                   0                     0   \n",
       "1                    0                   0                     0   \n",
       "2                    0                   0                     0   \n",
       "3                    0                   0                     0   \n",
       "4                    0                   0                     0   \n",
       "\n",
       "   has_nurs_improper  has_nurs_critical  has_nurs_very_crit  form_completed  \\\n",
       "0                  0                  0                   0               0   \n",
       "1                  0                  0                   0               0   \n",
       "2                  0                  0                   0               0   \n",
       "3                  0                  0                   0               0   \n",
       "4                  0                  0                   0               0   \n",
       "\n",
       "   form_incomplete  form_foster  children_2  children_3  children_more  \\\n",
       "0                0            0           0           0              0   \n",
       "1                0            0           0           0              0   \n",
       "2                0            0           0           0              0   \n",
       "3                0            0           0           0              0   \n",
       "4                0            0           0           0              0   \n",
       "\n",
       "   housing_less_conv  housing_critical  finance_inconv  social_slightly_prob  \\\n",
       "0                  0                 0               0                     0   \n",
       "1                  0                 0               0                     0   \n",
       "2                  0                 0               0                     0   \n",
       "3                  0                 0               0                     1   \n",
       "4                  0                 0               0                     1   \n",
       "\n",
       "   social_problematic  health_priority  health_not_recom  \n",
       "0                   0                0                 0  \n",
       "1                   0                1                 0  \n",
       "2                   0                0                 1  \n",
       "3                   0                0                 0  \n",
       "4                   0                1                 0  "
      ]
     },
     "execution_count": 14,
     "metadata": {},
     "output_type": "execute_result"
    }
   ],
   "source": [
    "dataset = pd.get_dummies(dataset, drop_first= True) # to avoid dummy variable trap\n",
    "print(\"No. of encoded columns: \", dataset.shape[1])\n",
    "dataset.head()"
   ]
  },
  {
   "cell_type": "markdown",
   "metadata": {},
   "source": [
    "## 3- Split The Dataset <a name=\"3\"></a>"
   ]
  },
  {
   "cell_type": "code",
   "execution_count": 15,
   "metadata": {
    "collapsed": true
   },
   "outputs": [],
   "source": [
    "from sklearn.model_selection import train_test_split\n",
    "X_train, X_test, y_train, y_test = train_test_split(dataset, bin_target, test_size=0.2,random_state=0)"
   ]
  },
  {
   "cell_type": "markdown",
   "metadata": {},
   "source": [
    "## 4- Build The Benchmark Model <a name=\"4\"></a>"
   ]
  },
  {
   "cell_type": "code",
   "execution_count": 33,
   "metadata": {},
   "outputs": [
    {
     "name": "stdout",
     "output_type": "stream",
     "text": [
      "Benchmark model trained succesfully.\n"
     ]
    }
   ],
   "source": [
    "from sklearn.linear_model import LogisticRegression\n",
    "from sklearn.model_selection import cross_val_score\n",
    "results={}\n",
    "results[\"Logistic Regression\"] = {}\n",
    "Log_Reg = LogisticRegression()\n",
    "Model1 = Log_Reg.fit(X_train,y_train)\n",
    "print(\"Benchmark model trained succesfully.\")"
   ]
  },
  {
   "cell_type": "code",
   "execution_count": 36,
   "metadata": {},
   "outputs": [
    {
     "name": "stderr",
     "output_type": "stream",
     "text": [
      "E:\\Anaconda3\\lib\\site-packages\\sklearn\\model_selection\\_split.py:581: Warning: The least populated class in y has only 2 members, which is too few. The minimum number of groups for any class cannot be less than n_splits=10.\n",
      "  % (min_groups, self.n_splits)), Warning)\n"
     ]
    },
    {
     "name": "stdout",
     "output_type": "stream",
     "text": [
      "Logistic Regression Cross Validation 0.913965508279\n"
     ]
    }
   ],
   "source": [
    "CrossValid_LR=cross_val_score(Log_Reg, X_train, y_train, scoring=\"accuracy\", cv=10).mean()\n",
    "print(\"Logistic Regression Cross Validation\",CrossValid_LR)"
   ]
  },
  {
   "cell_type": "markdown",
   "metadata": {},
   "source": [
    "## 5. Build Models <a name=\"5\"></a>"
   ]
  },
  {
   "cell_type": "markdown",
   "metadata": {},
   "source": [
    "Machine learning models that will be used for this problem:\n",
    "\n",
    "- Decision Tree classifier\n",
    "\n",
    "- SVM\n",
    "\n"
   ]
  },
  {
   "cell_type": "markdown",
   "metadata": {},
   "source": [
    "### Training the decision tree model"
   ]
  },
  {
   "cell_type": "code",
   "execution_count": 17,
   "metadata": {},
   "outputs": [
    {
     "name": "stdout",
     "output_type": "stream",
     "text": [
      "Decision Tree model trained succesfully.\n"
     ]
    }
   ],
   "source": [
    "from sklearn.tree import DecisionTreeClassifier\n",
    "Decision_Tree = DecisionTreeClassifier()\n",
    "Model2=Decision_Tree.fit(X_train,y_train)\n",
    "print(\"Decision Tree model trained succesfully.\")"
   ]
  },
  {
   "cell_type": "markdown",
   "metadata": {},
   "source": [
    "### Training the SVM model"
   ]
  },
  {
   "cell_type": "code",
   "execution_count": 18,
   "metadata": {},
   "outputs": [
    {
     "name": "stdout",
     "output_type": "stream",
     "text": [
      "SVM model trained succesfully.\n"
     ]
    }
   ],
   "source": [
    "from sklearn.svm import SVC\n",
    "SVM = SVC(random_state=42)\n",
    "Model3 = SVM .fit(X_train,y_train)\n",
    "print(\"SVM model trained succesfully.\")"
   ]
  },
  {
   "cell_type": "markdown",
   "metadata": {},
   "source": [
    "## 6- Evaluation <a name=\"6\"></a>"
   ]
  },
  {
   "cell_type": "markdown",
   "metadata": {},
   "source": [
    " Evaluating the accuracy metric, prediction time and cross validation of each model"
   ]
  },
  {
   "cell_type": "code",
   "execution_count": 19,
   "metadata": {
    "collapsed": true
   },
   "outputs": [],
   "source": [
    "from sklearn.metrics import accuracy_score\n",
    "from sklearn.model_selection import cross_val_score"
   ]
  },
  {
   "cell_type": "markdown",
   "metadata": {},
   "source": [
    "### Logistic Regression evalutaion metrics"
   ]
  },
  {
   "cell_type": "code",
   "execution_count": 20,
   "metadata": {},
   "outputs": [
    {
     "name": "stdout",
     "output_type": "stream",
     "text": [
      " Logistic Regression evaluation metrics have been recorded succesfully.\n"
     ]
    }
   ],
   "source": [
    "start = time() \n",
    "y_pred_test_Model1 = Model1.predict(X_test)\n",
    "y_pred_train_Model1 = Model1.predict(X_train)\n",
    "end = time() \n",
    "results[\"Logistic Regression\"]['prediction_time'] = end - start\n",
    "results[\"Logistic Regression\"]['accuracy_train'] = accuracy_score(y_train, y_pred_train_Model1)\n",
    "results[\"Logistic Regression\"]['accuracy_test'] = accuracy_score(y_test, y_pred_test_Model1)\n",
    "print(\" Logistic Regression evaluation metrics have been recorded succesfully.\")"
   ]
  },
  {
   "cell_type": "markdown",
   "metadata": {},
   "source": [
    "### Decision Tree evaluation metrics"
   ]
  },
  {
   "cell_type": "code",
   "execution_count": 21,
   "metadata": {},
   "outputs": [
    {
     "name": "stdout",
     "output_type": "stream",
     "text": [
      "Decision Tree Cross Validation 0.990547034531\n"
     ]
    },
    {
     "name": "stderr",
     "output_type": "stream",
     "text": [
      "E:\\Anaconda3\\lib\\site-packages\\sklearn\\model_selection\\_split.py:581: Warning: The least populated class in y has only 2 members, which is too few. The minimum number of groups for any class cannot be less than n_splits=10.\n",
      "  % (min_groups, self.n_splits)), Warning)\n"
     ]
    }
   ],
   "source": [
    "CrossValid_DT=cross_val_score(Decision_Tree, X_train, y_train, scoring=\"accuracy\", cv=10).mean()\n",
    "print(\"Decision Tree Cross Validation\",CrossValid_DT)"
   ]
  },
  {
   "cell_type": "code",
   "execution_count": 22,
   "metadata": {},
   "outputs": [
    {
     "name": "stdout",
     "output_type": "stream",
     "text": [
      " Decision Tree evaluation metrics have been recorded succesfully.\n"
     ]
    }
   ],
   "source": [
    "results[\"Decision Tree\"] = {}\n",
    "start = time() \n",
    "y_pred_test_Model2 = Model2.predict(X_test)\n",
    "y_pred_train_Model2 = Model2.predict(X_train)\n",
    "end = time() \n",
    "results[\"Decision Tree\"]['prediction_time'] = end - start\n",
    "results[\"Decision Tree\"]['accuracy_train'] = accuracy_score(y_train, y_pred_train_Model2)\n",
    "results[\"Decision Tree\"]['accuracy_test'] = accuracy_score(y_test, y_pred_test_Model2)\n",
    "print(\" Decision Tree evaluation metrics have been recorded succesfully.\")"
   ]
  },
  {
   "cell_type": "markdown",
   "metadata": {},
   "source": [
    "### SVM evalutaion metrics"
   ]
  },
  {
   "cell_type": "code",
   "execution_count": 23,
   "metadata": {},
   "outputs": [
    {
     "name": "stderr",
     "output_type": "stream",
     "text": [
      "E:\\Anaconda3\\lib\\site-packages\\sklearn\\model_selection\\_split.py:581: Warning: The least populated class in y has only 2 members, which is too few. The minimum number of groups for any class cannot be less than n_splits=10.\n",
      "  % (min_groups, self.n_splits)), Warning)\n"
     ]
    },
    {
     "name": "stdout",
     "output_type": "stream",
     "text": [
      "SVM Cross Validation 0.957269352982\n"
     ]
    }
   ],
   "source": [
    "CrossValid_SVM=cross_val_score(SVM, X_train, y_train, scoring=\"accuracy\", cv=10).mean()\n",
    "print(\"SVM Cross Validation\",CrossValid_SVM)\n"
   ]
  },
  {
   "cell_type": "code",
   "execution_count": 24,
   "metadata": {},
   "outputs": [
    {
     "name": "stdout",
     "output_type": "stream",
     "text": [
      "SVM evaluation metrics have been recorded succesfully.\n"
     ]
    }
   ],
   "source": [
    "results[\"SVM\"] = {}\n",
    "start = time() \n",
    "y_pred_test_Model3 = Model3.predict(X_test)\n",
    "y_pred_train_Model3 = Model3.predict(X_train)\n",
    "end = time() \n",
    "results[\"SVM\"]['prediction_time'] = end - start\n",
    "results[\"SVM\"]['accuracy_train'] = accuracy_score(y_train, y_pred_train_Model3)\n",
    "results[\"SVM\"]['accuracy_test'] = accuracy_score(y_test, y_pred_test_Model3)\n",
    "print(\"SVM evaluation metrics have been recorded succesfully.\")\n"
   ]
  },
  {
   "cell_type": "markdown",
   "metadata": {},
   "source": [
    "### Display all evaluation results"
   ]
  },
  {
   "cell_type": "markdown",
   "metadata": {},
   "source": [
    "Now we have all the needed information to make a decision about the best classifier."
   ]
  },
  {
   "cell_type": "code",
   "execution_count": 25,
   "metadata": {},
   "outputs": [
    {
     "data": {
      "text/html": [
       "<div>\n",
       "<style>\n",
       "    .dataframe thead tr:only-child th {\n",
       "        text-align: right;\n",
       "    }\n",
       "\n",
       "    .dataframe thead th {\n",
       "        text-align: left;\n",
       "    }\n",
       "\n",
       "    .dataframe tbody tr th {\n",
       "        vertical-align: top;\n",
       "    }\n",
       "</style>\n",
       "<table border=\"1\" class=\"dataframe\">\n",
       "  <thead>\n",
       "    <tr style=\"text-align: right;\">\n",
       "      <th></th>\n",
       "      <th>accuracy_test</th>\n",
       "      <th>accuracy_train</th>\n",
       "      <th>prediction_time</th>\n",
       "    </tr>\n",
       "  </thead>\n",
       "  <tbody>\n",
       "    <tr>\n",
       "      <th>Decision Tree</th>\n",
       "      <td>0.995756</td>\n",
       "      <td>1.000000</td>\n",
       "      <td>0.000000</td>\n",
       "    </tr>\n",
       "    <tr>\n",
       "      <th>Logistic Regression</th>\n",
       "      <td>0.922840</td>\n",
       "      <td>0.914641</td>\n",
       "      <td>0.224124</td>\n",
       "    </tr>\n",
       "    <tr>\n",
       "      <th>SVM</th>\n",
       "      <td>0.968364</td>\n",
       "      <td>0.965856</td>\n",
       "      <td>1.844244</td>\n",
       "    </tr>\n",
       "  </tbody>\n",
       "</table>\n",
       "</div>"
      ],
      "text/plain": [
       "                     accuracy_test  accuracy_train  prediction_time\n",
       "Decision Tree             0.995756        1.000000         0.000000\n",
       "Logistic Regression       0.922840        0.914641         0.224124\n",
       "SVM                       0.968364        0.965856         1.844244"
      ]
     },
     "metadata": {},
     "output_type": "display_data"
    }
   ],
   "source": [
    "# display(results)\n",
    "results_df = pd.DataFrame(results)\n",
    "transposed_results = results_df\n",
    "results_df = results_df.T\n",
    "display(results_df)"
   ]
  },
  {
   "cell_type": "markdown",
   "metadata": {},
   "source": [
    "#### Results Interpretation:\n",
    "\n",
    "The above table shows that **Decision Tree** is the best model.\n",
    "\n",
    "**Decision Tree** has an accuracy of 100% at training and 99.57% at testing but when using cross validation its accuracy is 99%. In terms of time, it was the fastest model to predict new data points. \n",
    "\n",
    "**SVM** has 96.58% training accuracy and 96.83% testing accuracy but for cross validation its accuracy is 95.726%. It didn’t take short time for prediction compared by the decision tree model, SVM has the longest prediction time.\n",
    "\n",
    "**Logistic Regression** model scored 91.46% training accuracy and 92.28% testing accuracy with short prediction time.\n"
   ]
  },
  {
   "cell_type": "markdown",
   "metadata": {},
   "source": [
    "### Plotting the results "
   ]
  },
  {
   "cell_type": "code",
   "execution_count": 26,
   "metadata": {},
   "outputs": [
    {
     "data": {
      "image/png": "[encoded data removed]",
      "text/plain": [
       "<matplotlib.figure.Figure at 0x218e8bf8f60>"
      ]
     },
     "metadata": {},
     "output_type": "display_data"
    }
   ],
   "source": [
    "rev_res = transposed_results.reset_index()\n",
    "rev_res = rev_res.rename(columns={\"index\":\"metric\"})\n",
    "ax = rev_res.plot(xticks=rev_res.index, figsize=(15,8), colormap='gist_rainbow')\n",
    "ax.set_xticklabels(rev_res[\"metric\"]);"
   ]
  },
  {
   "cell_type": "markdown",
   "metadata": {},
   "source": [
    "According to the above information and to the cross validation results, the **Decision Tree** is chosen as the best model."
   ]
  },
  {
   "cell_type": "markdown",
   "metadata": {},
   "source": [
    "## 7-Validation <a name=\"7\"></a>"
   ]
  },
  {
   "cell_type": "markdown",
   "metadata": {},
   "source": [
    "To enhance the chosen model"
   ]
  },
  {
   "cell_type": "code",
   "execution_count": 28,
   "metadata": {},
   "outputs": [
    {
     "name": "stderr",
     "output_type": "stream",
     "text": [
      "E:\\Anaconda3\\lib\\site-packages\\sklearn\\model_selection\\_split.py:581: Warning: The least populated class in y has only 2 members, which is too few. The minimum number of groups for any class cannot be less than n_splits=10.\n",
      "  % (min_groups, self.n_splits)), Warning)\n"
     ]
    }
   ],
   "source": [
    "from sklearn.model_selection import GridSearchCV\n",
    "\n",
    "parameters = {'criterion': ['gini', 'entropy'],'max_depth': [2,5,10,15,None]}\n",
    "\n",
    "grid_obj = GridSearchCV(Model2, param_grid=parameters, scoring='accuracy', cv=10)\n",
    "grid_fit = grid_obj.fit(X_train, y_train)\n",
    "best_clf = grid_fit.best_estimator_"
   ]
  },
  {
   "cell_type": "code",
   "execution_count": 29,
   "metadata": {},
   "outputs": [
    {
     "name": "stderr",
     "output_type": "stream",
     "text": [
      "E:\\Anaconda3\\lib\\site-packages\\sklearn\\model_selection\\_split.py:581: Warning: The least populated class in y has only 2 members, which is too few. The minimum number of groups for any class cannot be less than n_splits=10.\n",
      "  % (min_groups, self.n_splits)), Warning)\n"
     ]
    }
   ],
   "source": [
    "best_predictions = best_clf.predict(X_test)\n",
    "tuned_scores = cross_val_score(best_clf, X_train, y_train, cv=10, scoring='accuracy')"
   ]
  },
  {
   "cell_type": "code",
   "execution_count": 31,
   "metadata": {},
   "outputs": [
    {
     "name": "stdout",
     "output_type": "stream",
     "text": [
      "Decision Tree Classifier Results:\n",
      "\n",
      "Unoptimized Model Testing Accuracy: 0.9958\n",
      "Unoptimized Model Cross Validation Score: 0.9905\n",
      "\n",
      "Optimized Model Testing Accuracy: 0.9950\n",
      "Optimized Model Cross Validation Score: 0.9917\n",
      "\n"
     ]
    }
   ],
   "source": [
    "# default and optimized models accuracies\n",
    "print(\"Decision Tree Classifier Results:\\n\")\n",
    "print(\"Unoptimized Model Testing Accuracy: {:.4f}\".format(results['Decision Tree']['accuracy_test']))\n",
    "print(\"Unoptimized Model Cross Validation Score: {:.4f}\\n\".format(CrossValid_DT))\n",
    "\n",
    "print(\"Optimized Model Testing Accuracy: {:.4f}\".format(accuracy_score(y_test, best_predictions)))\n",
    "print(\"Optimized Model Cross Validation Score: {:.4f}\\n\".format(tuned_scores.mean()))"
   ]
  },
  {
   "cell_type": "markdown",
   "metadata": {},
   "source": [
    "**The optimized model has the same accuracy as the default one**"
   ]
  },
  {
   "cell_type": "markdown",
   "metadata": {},
   "source": [
    "### Display Best Parameters of the chosen model"
   ]
  },
  {
   "cell_type": "code",
   "execution_count": 32,
   "metadata": {},
   "outputs": [
    {
     "name": "stdout",
     "output_type": "stream",
     "text": [
      "Best 'Decision Tree' parameters values after tuning:\n"
     ]
    },
    {
     "data": {
      "text/html": [
       "<div>\n",
       "<style>\n",
       "    .dataframe thead tr:only-child th {\n",
       "        text-align: right;\n",
       "    }\n",
       "\n",
       "    .dataframe thead th {\n",
       "        text-align: left;\n",
       "    }\n",
       "\n",
       "    .dataframe tbody tr th {\n",
       "        vertical-align: top;\n",
       "    }\n",
       "</style>\n",
       "<table border=\"1\" class=\"dataframe\">\n",
       "  <thead>\n",
       "    <tr style=\"text-align: right;\">\n",
       "      <th></th>\n",
       "      <th>criterion</th>\n",
       "      <th>max_depth</th>\n",
       "    </tr>\n",
       "  </thead>\n",
       "  <tbody>\n",
       "    <tr>\n",
       "      <th>best parameters values</th>\n",
       "      <td>entropy</td>\n",
       "      <td>None</td>\n",
       "    </tr>\n",
       "  </tbody>\n",
       "</table>\n",
       "</div>"
      ],
      "text/plain": [
       "                       criterion max_depth\n",
       "best parameters values   entropy      None"
      ]
     },
     "metadata": {},
     "output_type": "display_data"
    }
   ],
   "source": [
    "print(\"Best 'Decision Tree' parameters values after tuning:\")\n",
    "display(pd.DataFrame(grid_obj.best_params_, index=['best parameters values']))"
   ]
  },
  {
   "cell_type": "markdown",
   "metadata": {},
   "source": [
    "### Check the final model with the benchmark model"
   ]
  },
  {
   "cell_type": "code",
   "execution_count": 37,
   "metadata": {},
   "outputs": [
    {
     "data": {
      "text/html": [
       "<div>\n",
       "<style>\n",
       "    .dataframe thead tr:only-child th {\n",
       "        text-align: right;\n",
       "    }\n",
       "\n",
       "    .dataframe thead th {\n",
       "        text-align: left;\n",
       "    }\n",
       "\n",
       "    .dataframe tbody tr th {\n",
       "        vertical-align: top;\n",
       "    }\n",
       "</style>\n",
       "<table border=\"1\" class=\"dataframe\">\n",
       "  <thead>\n",
       "    <tr style=\"text-align: right;\">\n",
       "      <th></th>\n",
       "      <th>accuracy_test</th>\n",
       "      <th>accuracy_train</th>\n",
       "      <th>prediction_time</th>\n",
       "    </tr>\n",
       "  </thead>\n",
       "  <tbody>\n",
       "    <tr>\n",
       "      <th>Decision Tree</th>\n",
       "      <td>0.995756</td>\n",
       "      <td>1.000000</td>\n",
       "      <td>0.000000</td>\n",
       "    </tr>\n",
       "    <tr>\n",
       "      <th>Logistic Regression</th>\n",
       "      <td>0.922840</td>\n",
       "      <td>0.914641</td>\n",
       "      <td>0.224124</td>\n",
       "    </tr>\n",
       "  </tbody>\n",
       "</table>\n",
       "</div>"
      ],
      "text/plain": [
       "                     accuracy_test  accuracy_train  prediction_time\n",
       "Decision Tree             0.995756        1.000000         0.000000\n",
       "Logistic Regression       0.922840        0.914641         0.224124"
      ]
     },
     "metadata": {},
     "output_type": "display_data"
    }
   ],
   "source": [
    "display(results_df.iloc[[0,1]])"
   ]
  },
  {
   "cell_type": "markdown",
   "metadata": {},
   "source": [
    "### Plotting the most 10 important features in making the decision"
   ]
  },
  {
   "cell_type": "code",
   "execution_count": 38,
   "metadata": {},
   "outputs": [
    {
     "data": {
      "image/png": "[encoded data removed]",
      "text/plain": [
       "<matplotlib.figure.Figure at 0x218e8dd98d0>"
      ]
     },
     "metadata": {},
     "output_type": "display_data"
    }
   ],
   "source": [
    "plt.figure(figsize=(10,12))\n",
    "plt.title(\"Feature Importance\")\n",
    "imp = pd.Series(data=best_clf.feature_importances_, index=X_train.columns).sort_values(ascending=False)[:10]\n",
    "ax = sns.barplot(y=imp.index, x=imp.values, palette=\"inferno\", orient='h')"
   ]
  },
  {
   "cell_type": "markdown",
   "metadata": {},
   "source": [
    "#### Some observations\n",
    "\n",
    "Some values from 'health', 'has_nurs', 'parents', 'social', 'housing', 'children' where considered the most important factors in our classification.\n",
    "\n",
    "This is related by our observations during examining the relationship between each column and the target variable in the 'Data Analysis' section, It's a good indicator that our model is reliable."
   ]
  },
  {
   "cell_type": "markdown",
   "metadata": {},
   "source": [
    "## Conclusion\n",
    "\n",
    "Our problem was to classify the child as \"not_recommended, recommended, very_recommended, priority and spec_priority\" using a machine learning model that can predict the category of each child based on his/her features.\n",
    "\n",
    "The dataset used for this problem was obtained from 'UCI Machine Leanring Repository', It is a textual data with 12960 rows and 8 columns. All the columns contained categorical values, the 'Nursery' column was our target variable. \n",
    "\n",
    "**First** : we started with data exploration to find the distribution of each column, and then we plotted every column against the target variable to see if we can predict the behavior of the model. \n",
    "\n",
    "**Second**: we preprocessed the data by using one-hot-encoding technique.\n",
    "\n",
    "**Third** : we created the benchmark model **Logistic Regression **, and built two other models (Decision Tree, SVC) to make a comparison between all of them. \n",
    "\n",
    "**Decision Tree** was the best model becuase it scored accuracy of 100% at training and 99.57% at testing and about 99% cross validation accuracy \n",
    "\n",
    "**Finally** : we implemented the hyper-paramet tuning technique to find best parameters for our model, and to find the important features in our data."
   ]
  }
 ],
 "metadata": {
  "kernelspec": {
   "display_name": "Python 3",
   "language": "python",
   "name": "python3"
  },
  "language_info": {
   "codemirror_mode": {
    "name": "ipython",
    "version": 3
   },
   "file_extension": ".py",
   "mimetype": "text/x-python",
   "name": "python",
   "nbconvert_exporter": "python",
   "pygments_lexer": "ipython3",
   "version": "3.6.7"
  }
 },
 "nbformat": 4,
 "nbformat_minor": 2
}
